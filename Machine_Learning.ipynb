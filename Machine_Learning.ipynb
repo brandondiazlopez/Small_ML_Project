{
  "nbformat": 4,
  "nbformat_minor": 0,
  "metadata": {
    "colab": {
      "provenance": [],
      "authorship_tag": "ABX9TyM/P+ttGkWiJDOTSUUFWRUK",
      "include_colab_link": true
    },
    "kernelspec": {
      "name": "python3",
      "display_name": "Python 3"
    },
    "language_info": {
      "name": "python"
    }
  },
  "cells": [
    {
      "cell_type": "markdown",
      "metadata": {
        "id": "view-in-github",
        "colab_type": "text"
      },
      "source": [
        "<a href=\"https://colab.research.google.com/github/brandondiazlopez/Small_ML_Project/blob/main/Machine_Learning.ipynb\" target=\"_parent\"><img src=\"https://colab.research.google.com/assets/colab-badge.svg\" alt=\"Open In Colab\"/></a>"
      ]
    },
    {
      "cell_type": "markdown",
      "source": [
        "Brandon Diaz-Lopez\n",
        "\n",
        "\n"
      ],
      "metadata": {
        "id": "mwMJ-lt0rmc5"
      }
    },
    {
      "cell_type": "code",
      "source": [
        "# Evaluate using Cross Validation\n",
        "from pandas import read_csv\n",
        "from sklearn . model_selection import RepeatedKFold\n",
        "from sklearn . model_selection import KFold\n",
        "from sklearn . model_selection import cross_val_score\n",
        "from sklearn . discriminant_analysis import LinearDiscriminantAnalysis\n",
        "from sklearn . linear_model import LogisticRegression\n",
        "from sklearn . neighbors import KNeighborsClassifier\n",
        "from sklearn . naive_bayes import GaussianNB\n",
        "from sklearn . svm import SVC\n",
        "import matplotlib.pyplot as plt\n",
        "\n",
        "# read and load the csv data file\n",
        "filename = \"myClassDataSet2.csv\"\n",
        "data = read_csv( filename )"
      ],
      "metadata": {
        "id": "sw8u3M-tskwN"
      },
      "execution_count": null,
      "outputs": []
    },
    {
      "cell_type": "markdown",
      "source": [
        "This section was used to set up the proper libraries needed for the evaluation."
      ],
      "metadata": {
        "id": "QwLfHWsCoqjt"
      }
    },
    {
      "cell_type": "code",
      "source": [
        "# separate array into input and output components\n",
        "array = data.values\n",
        "\n",
        "X = array[:,0:10]\n",
        "Y = array[:,10]\n",
        "\n",
        "# Create RepeatedKFold object\n",
        "rkf = RepeatedKFold(n_splits=10, n_repeats=3, random_state=4)\n",
        "\n",
        "# Create logistic regression model with liblinear solver\n",
        "logreg = LogisticRegression(solver='liblinear')\n",
        "\n",
        "# Perform cross-validation and compute accuracy\n",
        "logreg.fit(X,Y)\n",
        "accuracy = cross_val_score(logreg, X, Y, cv=10, scoring='accuracy')\n",
        "\n",
        "# Compute and print mean accuracy\n",
        "mean_accuracy = sum(accuracy) / len(accuracy)\n",
        "print(\"Mean classification accuracy: \", mean_accuracy)"
      ],
      "metadata": {
        "colab": {
          "base_uri": "https://localhost:8080/"
        },
        "id": "OpgtLMdbwhZD",
        "outputId": "3d796539-2205-42a5-f40e-565b1287e258"
      },
      "execution_count": null,
      "outputs": [
        {
          "output_type": "stream",
          "name": "stdout",
          "text": [
            "Mean classification accuracy:  0.9410000000000001\n"
          ]
        }
      ]
    },
    {
      "cell_type": "markdown",
      "source": [
        "In this section the data is converted to an array to make it easier to perform model functions such as Repeated K fold, Logistic Regression and Cross Validation Score. \n",
        "\n",
        "The 10 folds essentially is running the model 10 times, training the model each fold, with the exception of the last fold, which will be used for the test. \n",
        "\n",
        "Having a Mean Classification Score of 0.941 means that the model is 94.1% accurate. Meaning it is a very accurate model."
      ],
      "metadata": {
        "id": "HPGbUB5sgxBJ"
      }
    },
    {
      "cell_type": "code",
      "source": [
        "# reporting Accuracy, Neg Log Loss, and ROC AUC scores\n",
        "\n",
        "accuracy_scores = cross_val_score(logreg, X, Y, cv=10, scoring='accuracy')\n",
        "neglogloss_scores = cross_val_score(logreg, X, Y, cv=10, scoring='neg_log_loss')\n",
        "rocauc_scores = cross_val_score(logreg, X, Y, cv=10, scoring='roc_auc')\n",
        "\n",
        "print('Mean accuracy:', accuracy_scores.mean())\n",
        "print('Mean negative log loss:', -neglogloss_scores.mean())\n",
        "print('Mean ROC AUC:', rocauc_scores.mean())"
      ],
      "metadata": {
        "colab": {
          "base_uri": "https://localhost:8080/"
        },
        "id": "Z5cUqkNTYkyW",
        "outputId": "28437841-15ef-4d12-e4be-df8ddd9e172b"
      },
      "execution_count": null,
      "outputs": [
        {
          "output_type": "stream",
          "name": "stdout",
          "text": [
            "Mean accuracy: 0.9410000000000001\n",
            "Mean negative log loss: 0.1969084652481124\n",
            "Mean ROC AUC: 0.9676273343359785\n"
          ]
        }
      ]
    },
    {
      "cell_type": "markdown",
      "source": [
        "In this section, the Mean Accuracy score of 94.1 means that the model is extremely accurate.\n",
        "\n",
        " Having a  Mean Negative log loss score of 0.1969 means that there is a low chance for errors. The lower the score, the lower chance for error. \n",
        "\n",
        "For the Mean ROC AUC to be 0.9676 means that the model is nearly perfect. "
      ],
      "metadata": {
        "id": "PjxS-WLfg2Qr"
      }
    },
    {
      "cell_type": "code",
      "source": [
        "# preparing linear and nonlinear models\n",
        "\n",
        "models = []\n",
        "models.append(('LDA', LinearDiscriminantAnalysis()))\n",
        "models.append(('LR', LogisticRegression(solver='liblinear')))\n",
        "models.append(('KNN', KNeighborsClassifier()))\n",
        "models.append(('NB', GaussianNB()))\n",
        "models.append(('SVM', SVC(gamma='scale')))\n",
        "\n",
        "#Evaluating each model\n",
        "results = []\n",
        "\n",
        "names = []\n",
        "\n",
        "for name, model in models: \n",
        "  kfold = KFold(n_splits=10, random_state=4, shuffle=True)\n",
        "  cv_results = cross_val_score(model, X, Y, cv=kfold, scoring='accuracy')\n",
        "  results.append(cv_results)\n",
        "  names.append(name)\n",
        "  msg = \"%s: %f (%f)\" % (name, cv_results.mean(), cv_results.std())\n",
        "  print(\"{}: mean accuracy:{}, \\t std of accuracies:{}\".format(name, cv_results.mean(), cv_results.std()))\n"
      ],
      "metadata": {
        "colab": {
          "base_uri": "https://localhost:8080/"
        },
        "id": "eGicwMeHYvkX",
        "outputId": "537a081c-e259-4e3c-c036-4aadcb28c736"
      },
      "execution_count": null,
      "outputs": [
        {
          "output_type": "stream",
          "name": "stdout",
          "text": [
            "LDA: mean accuracy:0.9318000000000002, \t std of accuracies:0.005996665740225956\n",
            "LR: mean accuracy:0.9409000000000001, \t std of accuracies:0.0064412731660751415\n",
            "KNN: mean accuracy:0.9353, \t std of accuracies:0.008246817568007641\n",
            "NB: mean accuracy:0.9418, \t std of accuracies:0.005528109984434081\n",
            "SVM: mean accuracy:0.9434999999999999, \t std of accuracies:0.005590169943749448\n"
          ]
        }
      ]
    },
    {
      "cell_type": "markdown",
      "source": [
        "For this section, we are trying to compare the accuracy of our algorithm. To do this, we will use several different classifications to compare it to. \n",
        "\n",
        "Based off of these scores, I would choose to run my model though SVM or NB, because they have the highest accuacies and the lowest standard deviations."
      ],
      "metadata": {
        "id": "HxcRhXP_g4Vu"
      }
    },
    {
      "cell_type": "code",
      "source": [
        "fig = plt.figure()\n",
        "fig.suptitle( ' Algorithm Comparison ' )\n",
        "ax = fig.add_subplot(111)\n",
        "plt.boxplot(results)\n",
        "ax.set_xticklabels(names)\n",
        "plt.show()"
      ],
      "metadata": {
        "colab": {
          "base_uri": "https://localhost:8080/",
          "height": 294
        },
        "id": "1fJkaRJhY6IZ",
        "outputId": "5d90d07a-580c-4d4c-bbe7-163de455a8c3"
      },
      "execution_count": null,
      "outputs": [
        {
          "output_type": "display_data",
          "data": {
            "text/plain": [
              "<Figure size 432x288 with 1 Axes>"
            ],
            "image/png": "[encoded data removed]"
          },
          "metadata": {
            "needs_background": "light"
          }
        }
      ]
    },
    {
      "cell_type": "markdown",
      "source": [
        "For the previous section, I would have chosen SVM and NB to run my model off of. HOWEVER, based on this graph, I would choose LDA because there are no outliers and the data appears to be more normally distributed than the LR, KNN, NB and SVM."
      ],
      "metadata": {
        "id": "PDJTZpIUg6pl"
      }
    },
    {
      "cell_type": "code",
      "source": [
        "# Create a pipeline that extracts features from the data then creates a model\n",
        "from pandas import read_csv\n",
        "from sklearn . model_selection import KFold\n",
        "from sklearn . model_selection import cross_val_score\n",
        "from sklearn . pipeline import Pipeline\n",
        "from sklearn . pipeline import FeatureUnion\n",
        "from sklearn . linear_model import LogisticRegression\n",
        "from sklearn . decomposition import PCA\n",
        "from sklearn . feature_selection import SelectKBest\n",
        "from sklearn.preprocessing import StandardScaler\n",
        "\n",
        "# read and load the csv data file\n",
        "filename = \"myClassDataSet2.csv\"\n",
        "dataframe = read_csv ( filename )\n",
        "array = dataframe . values\n",
        "\n",
        "# separate array into input and output components\n",
        "X = array [:,0:10]\n",
        "Y = array [:,10]"
      ],
      "metadata": {
        "id": "R4c2Z01NZV9R"
      },
      "execution_count": null,
      "outputs": []
    },
    {
      "cell_type": "code",
      "source": [
        "# Step 1: Standarize the data\n",
        "scaler = StandardScaler()\n",
        "\n",
        "#Step 2: Extract the 3 features using PCA\n",
        "pca = PCA(n_components=3)\n",
        "\n",
        "# Step 3: Extract 6 features using SelectKBest\n",
        "k_best = SelectKBest(k=6)\n",
        "\n",
        "# Step 4: Combine features, extracted from two previous steps using FeatureUnion()\n",
        "feature_union = FeatureUnion([(\"pca\", pca), (\"k_best\", k_best)])\n",
        "\n",
        "# Step 5: Learn a Logistic Regression using ‘liblinear’ solver.\n",
        "logistic_regression = LogisticRegression(solver='liblinear')\n",
        "\n",
        "# Create Pipeline\n",
        "pipeline = Pipeline([\n",
        "    ('scaler', scaler),\n",
        "    ('features', feature_union),\n",
        "    ('logistic_regression', logistic_regression)\n",
        "])\n",
        "\n",
        "#Evaluate pipeline using Kfold Cross Val\n",
        "Kfold = KFold(random_state=5, shuffle=True)\n",
        "results = cross_val_score(model, X, Y, cv=kfold)\n",
        "print(\"Accuarcy Score:\", results.mean())"
      ],
      "metadata": {
        "colab": {
          "base_uri": "https://localhost:8080/"
        },
        "id": "vdE45f87ahsx",
        "outputId": "d0f50b17-658e-4a29-b0e8-d4d1926d8e73"
      },
      "execution_count": null,
      "outputs": [
        {
          "output_type": "stream",
          "name": "stdout",
          "text": [
            "Accuarcy Score: 0.9434999999999999\n"
          ]
        }
      ]
    },
    {
      "cell_type": "markdown",
      "source": [
        "In this section we are creating a pipeline to automate standard workflows. Standard workfolws help the model overcome problems like data leakage. \n",
        "\n",
        "We first will standardize the model to eliminate bias and to improve model performance. Then we will use PCA to extract the top 3 principle components. Once that is done SelectKBest will pick the best 6 features for the target variable.\n",
        "\n",
        "Feature union combines both of these exrtraction features. Then we will use Logistic Regression to make binary predicitons of our criteria.\n",
        "\n",
        "Having a score of 0.9434 means that the model is 94.34% accurate. This average accuracy means that the model is really effective."
      ],
      "metadata": {
        "id": "tLbPBN1yvqLM"
      }
    },
    {
      "cell_type": "code",
      "source": [
        "# import necessary packages to the Jupyter notebook\n",
        "# Bagged Decision Trees for Classification\n",
        "from pandas import read_csv\n",
        "from sklearn . model_selection import KFold\n",
        "from sklearn . model_selection import cross_val_score\n",
        "from sklearn . ensemble import BaggingClassifier\n",
        "from sklearn . ensemble import AdaBoostClassifier\n",
        "from sklearn . ensemble import VotingClassifier\n",
        "from sklearn . tree import DecisionTreeClassifier\n",
        "from sklearn . linear_model import LogisticRegression\n",
        "from sklearn . svm import SVC\n",
        "\n",
        "# read and load the csv data file\n",
        "filename = \"myClassDataSet2.csv\"\n",
        "dataframe = read_csv ( filename )\n",
        "array = dataframe . values\n",
        "\n",
        "# separate array into input and output components\n",
        "X = array [:,0:10]\n",
        "Y = array [:,10]"
      ],
      "metadata": {
        "id": "xQ-OUnUWapYM"
      },
      "execution_count": null,
      "outputs": []
    },
    {
      "cell_type": "code",
      "source": [
        "#setting up the Bagging Classifer \n",
        "\n",
        "kfold = KFold(n_splits=10, random_state=7, shuffle=True)\n",
        "\n",
        "tree = DecisionTreeClassifier()\n",
        "\n",
        "num_trees = 100\n",
        "\n",
        "model = BaggingClassifier(base_estimator=tree, n_estimators=num_trees, random_state=7)\n",
        "\n",
        "results = cross_val_score(model, X, Y, cv=kfold)\n",
        "\n",
        "print(\"Accuracy Score:\", results.mean())"
      ],
      "metadata": {
        "colab": {
          "base_uri": "https://localhost:8080/"
        },
        "id": "36DR8VoqbAyV",
        "outputId": "4424e88e-73c9-4f65-eef0-056e500c577d"
      },
      "execution_count": null,
      "outputs": [
        {
          "output_type": "stream",
          "name": "stdout",
          "text": [
            "Accuracy Score: 0.9494999999999999\n"
          ]
        }
      ]
    },
    {
      "cell_type": "markdown",
      "source": [
        "In this section, the goal is to boost the accuracy of our model. The Bagging Classifer takes multiple samples and trains those models for each sample. The accuracy score is the average of all of the samples pulled.\n",
        "\n",
        "Again since we have this high of a score, it means that the model is very accurate."
      ],
      "metadata": {
        "id": "TpfkS8vbyLC5"
      }
    },
    {
      "cell_type": "code",
      "source": [
        "# AdaBoost Classification\n",
        "\n",
        "adamodel = AdaBoostClassifier(n_estimators=num_trees, random_state=7)\n",
        "\n",
        "results = cross_val_score(adamodel, X, Y, cv=kfold)\n",
        "\n",
        "print(\"Accuracy Score:\", results.mean())"
      ],
      "metadata": {
        "colab": {
          "base_uri": "https://localhost:8080/"
        },
        "id": "gLcfOzEwbIa9",
        "outputId": "d9e2c919-64ff-48a7-9234-a5c2d0bd73b5"
      },
      "execution_count": null,
      "outputs": [
        {
          "output_type": "stream",
          "name": "stdout",
          "text": [
            "Accuracy Score: 0.9454999999999998\n"
          ]
        }
      ]
    },
    {
      "cell_type": "markdown",
      "source": [
        "In this section, we are using AdaBoost to boost our algorithm. This classifcation essentially combines weaker classifers into a stronger one. Having a score of 0.9454 means that the model is still predicting at a very high level. "
      ],
      "metadata": {
        "id": "R-a-rytQzHBf"
      }
    },
    {
      "cell_type": "code",
      "source": [
        "# Creating Sub models\n",
        "\n",
        "estimators = []\n",
        "\n",
        "log_reg = LogisticRegression(solver ='liblinear')\n",
        "estimators.append (('logistic', log_reg))\n",
        "\n",
        "dtc = DecisionTreeClassifier()\n",
        "estimators.append(('cart', dtc))\n",
        "\n",
        "supp_vec = SVC(gamma='auto')\n",
        "estimators.append(('svm', supp_vec))\n",
        "\n",
        "# Creating the ensemble model\n",
        "\n",
        "ensemble = VotingClassifier(estimators)\n",
        "\n",
        "results = cross_val_score(ensemble, X, Y, cv=kfold)\n",
        "print('mean estimate of classification accuracy', results.mean())"
      ],
      "metadata": {
        "colab": {
          "base_uri": "https://localhost:8080/"
        },
        "id": "PfakMgTibMl6",
        "outputId": "72a8f13d-f3b6-4eb4-8283-3aa3c2de273c"
      },
      "execution_count": null,
      "outputs": [
        {
          "output_type": "stream",
          "name": "stdout",
          "text": [
            "mean estimate of classification accuracy 0.9468\n"
          ]
        }
      ]
    },
    {
      "cell_type": "markdown",
      "source": [
        "finally, we are using the voting classifer. This classifer combines the predictions from several algorithms. The classifer needs to make a couple models outside of your sub models. Then it uses the sub models to help predict your new data. Having an accuracy of 0.9468 means that the model is still effective."
      ],
      "metadata": {
        "id": "VUEDw_uNzv2p"
      }
    }
  ]
}